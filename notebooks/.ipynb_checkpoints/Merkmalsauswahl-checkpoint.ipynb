{
 "cells": [
  {
   "cell_type": "code",
   "execution_count": null,
   "id": "5a2c00f9-36f2-495c-8445-adee365e2364",
   "metadata": {},
   "outputs": [],
   "source": [
    "#Entscheidung welche Merkmalsvariablen für die Aufgabe relevant sind\n",
    "#Prinzipiell von Vorteil Merkmalsvariablen auf ein Minimum zu reduzieren\n",
    "#FDR"
   ]
  },
  {
   "cell_type": "code",
   "execution_count": 108,
   "id": "616718ca-afe4-49d7-bea7-72b82bea7dd0",
   "metadata": {
    "tags": []
   },
   "outputs": [
    {
     "name": "stdout",
     "output_type": "stream",
     "text": [
      "         date  Unnamed: 0  n_sick  calls  n_duty  n_sby  sby_need  dafted  \\\n",
      "0  2016-04-01           0      73   8154    1700     90      8154    8154   \n",
      "1  2016-04-02           1      64   8526    1700     90      8526    8526   \n",
      "2  2016-04-03           2      68   8088    1700     90      8088    8088   \n",
      "3  2016-04-04           3      71   7044    1700     90      7044    7044   \n",
      "4  2016-04-05           4      63   7236    1700     90      7236    7236   \n",
      "\n",
      "   weekday  year  calendarweek  month  quarter  season  Feiertage  \\\n",
      "0        4  2016            13      4        2       1          0   \n",
      "1        5  2016            13      4        2       1          0   \n",
      "2        6  2016            13      4        2       1          0   \n",
      "3        0  2016            14      4        2       1          0   \n",
      "4        1  2016            14      4        2       1          0   \n",
      "\n",
      "   schulferien  Sick-ratio  Residuals_calls  Residuals_Sick-ratio  \\\n",
      "0            1    0.042941              NaN                   NaN   \n",
      "1            1    0.037647              NaN                   NaN   \n",
      "2            0    0.040000              NaN                   NaN   \n",
      "3            0    0.041765      -660.846232                   NaN   \n",
      "4            0    0.037059      -378.543096                   NaN   \n",
      "\n",
      "   Ausreißer_Sick-ratio  \n",
      "0                 False  \n",
      "1                 False  \n",
      "2                 False  \n",
      "3                 False  \n",
      "4                 False  \n",
      "Koeffizienten: [-137.5209483     9.67394945  -51.20570924  164.24044125   -0.\n",
      "    0.          343.06561696  317.43879252]\n",
      "Ausgewählte Merkmale: ['weekday', 'schulferien', 'calendarweek', 'month', 'season', 'year']\n"
     ]
    }
   ],
   "source": [
    "import pandas as pd\n",
    "from sklearn.linear_model import Lasso\n",
    "\n",
    "# Pfad zur CSV-Datei\n",
    "file_path = '/Users/frederic/Desktop/Fallstudie-Model-Engineering/data/processed/train_data.csv'\n",
    "\n",
    "# Daten einlesen\n",
    "data = pd.read_csv(file_path)\n",
    "\n",
    "# Überprüfen der Daten\n",
    "print(data.head())\n",
    "\n",
    "# Features und Zielwert definieren\n",
    "features = ['weekday', 'schulferien', 'calendarweek', 'month', 'quarter', 'Feiertage', 'season', 'year']\n",
    "target = 'calls'\n",
    "\n",
    "# Extrahieren der Daten\n",
    "X = data[features]\n",
    "y = data[target]\n",
    "\n",
    "# Lasso-Regression mit L1-Regularisierung\n",
    "lasso = Lasso(alpha=50)\n",
    "lasso.fit(X, y)\n",
    "\n",
    "# Anzeigen der Koeffizienten\n",
    "print(\"Koeffizienten:\", lasso.coef_)\n",
    "\n",
    "# Anzeigen der ausgewählten Merkmale\n",
    "selected_features = [feature for feature, coef in zip(features, lasso.coef_) if coef != 0]\n",
    "print(\"Ausgewählte Merkmale:\", selected_features)\n",
    "\n",
    "# Optional: Speichern der ausgewählten Merkmale in eine separate CSV-Datei\n",
    "selected_features_df = pd.DataFrame(selected_features, columns=['Selected Features_calls'])\n",
    "selected_features_df.to_csv('/Users/frederic/Desktop/Fallstudie-Model-Engineering/data/selected_features.csv', index=False)\n"
   ]
  },
  {
   "cell_type": "code",
   "execution_count": 94,
   "id": "33c947cd-058b-4216-8487-cb1bf9ec4b67",
   "metadata": {
    "tags": []
   },
   "outputs": [
    {
     "name": "stdout",
     "output_type": "stream",
     "text": [
      "         date  Unnamed: 0  n_sick  calls  n_duty  n_sby  sby_need  dafted  \\\n",
      "0  2016-04-01           0      73   8154    1700     90      8154    8154   \n",
      "1  2016-04-02           1      64   8526    1700     90      8526    8526   \n",
      "2  2016-04-03           2      68   8088    1700     90      8088    8088   \n",
      "3  2016-04-04           3      71   7044    1700     90      7044    7044   \n",
      "4  2016-04-05           4      63   7236    1700     90      7236    7236   \n",
      "\n",
      "   weekday  year  calendarweek  month  quarter  season  Feiertage  \\\n",
      "0        4  2016            13      4        2       1          0   \n",
      "1        5  2016            13      4        2       1          0   \n",
      "2        6  2016            13      4        2       1          0   \n",
      "3        0  2016            14      4        2       1          0   \n",
      "4        1  2016            14      4        2       1          0   \n",
      "\n",
      "   schulferien  Sick-ratio  Residuals_calls  Residuals_Sick-ratio  \\\n",
      "0            1    0.042941              NaN                   NaN   \n",
      "1            1    0.037647              NaN                   NaN   \n",
      "2            0    0.040000              NaN                   NaN   \n",
      "3            0    0.041765      -660.846232                   NaN   \n",
      "4            0    0.037059      -378.543096                   NaN   \n",
      "\n",
      "   Ausreißer_Sick-ratio  \n",
      "0                 False  \n",
      "1                 False  \n",
      "2                 False  \n",
      "3                 False  \n",
      "4                 False  \n",
      "Koeffizienten: [-0. -0.  0.  0.  0. -0.  0.]\n",
      "Ausgewählte Merkmale: []\n"
     ]
    }
   ],
   "source": [
    "import pandas as pd\n",
    "from sklearn.linear_model import Lasso\n",
    "\n",
    "# Pfad zur CSV-Datei\n",
    "file_path = '/Users/frederic/Desktop/Fallstudie-Model-Engineering/data/processed/train_data.csv'\n",
    "\n",
    "# Daten einlesen\n",
    "data = pd.read_csv(file_path)\n",
    "\n",
    "# Überprüfen der Daten\n",
    "print(data.head())\n",
    "\n",
    "# Features und Zielwert definieren\n",
    "features = ['weekday', 'schulferien', 'calendarweek', 'month', 'quarter', 'Feiertage', 'season', 'year']\n",
    "target = 'Sick-ratio'\n",
    "\n",
    "# Extrahieren der Daten\n",
    "X = data[features]\n",
    "y = data[target]\n",
    "\n",
    "# Lasso-Regression mit L1-Regularisierung\n",
    "lasso = Lasso(alpha=0.1)\n",
    "lasso.fit(X, y)\n",
    "\n",
    "# Anzeigen der Koeffizienten\n",
    "print(\"Koeffizienten:\", lasso.coef_)\n",
    "\n",
    "# Anzeigen der ausgewählten Merkmale\n",
    "selected_features = [feature for feature, coef in zip(features, lasso.coef_) if coef != 0]\n",
    "print(\"Ausgewählte Merkmale:\", selected_features)\n",
    "\n",
    "# Optional: Speichern der ausgewählten Merkmale in eine separate CSV-Datei\n",
    "selected_features_df = pd.DataFrame(selected_features, columns=['Selected Features_Sick-ratio'])\n",
    "selected_features_df.to_csv('/Users/frederic/Desktop/Fallstudie-Model-Engineering/data/selected_features.csv', index=False)\n"
   ]
  },
  {
   "cell_type": "code",
   "execution_count": 106,
   "id": "f5b9cbb3-dce7-4513-8827-0a93fc87707c",
   "metadata": {
    "tags": []
   },
   "outputs": [
    {
     "name": "stdout",
     "output_type": "stream",
     "text": [
      "Bestes alpha: 50\n",
      "Beste Koeffizienten: [-137.5209483     9.67394945  -51.20570924  164.24044125   -0.\n",
      "    0.          343.06561696  317.43879252]\n",
      "Mean Squared Error des besten Modells: 1135914.7060790258\n"
     ]
    }
   ],
   "source": [
    "import pandas as pd\n",
    "from sklearn.linear_model import Lasso\n",
    "from sklearn.model_selection import GridSearchCV\n",
    "from sklearn.metrics import mean_squared_error\n",
    "\n",
    "# Pfad zur CSV-Datei\n",
    "file_path = '/Users/frederic/Desktop/Fallstudie-Model-Engineering/data/processed/train_data.csv'\n",
    "\n",
    "# Daten einlesen\n",
    "data = pd.read_csv(file_path)\n",
    "\n",
    "# Features und Zielwert definieren\n",
    "features = ['weekday', 'schulferien', 'calendarweek', 'month', 'quarter', 'Feiertage', 'season', 'year']\n",
    "target = 'calls'\n",
    "\n",
    "# Extrahieren der Daten\n",
    "X = data[features]\n",
    "y = data[target]\n",
    "\n",
    "# Definieren der Parameter für Grid-Search\n",
    "param_grid = {\n",
    "    'alpha': [0.001, 0.01, 0.1, 1, 10, 50, 100]  # Eine Auswahl an alpha-Werten\n",
    "}\n",
    "\n",
    "# Erstellen eines Lasso-Modells\n",
    "lasso = Lasso(max_iter=10000)\n",
    "\n",
    "# Grid-Search mit Kreuzvalidierung\n",
    "grid_search = GridSearchCV(estimator=lasso, param_grid=param_grid, \n",
    "                           scoring='neg_mean_squared_error', cv=5)\n",
    "grid_search.fit(X, y)\n",
    "\n",
    "# Bestes alpha und das beste Modell anzeigen\n",
    "best_alpha = grid_search.best_params_['alpha']\n",
    "best_model = grid_search.best_estimator_\n",
    "\n",
    "print(f\"Bestes alpha: {best_alpha}\")\n",
    "print(f\"Beste Koeffizienten: {best_model.coef_}\")\n",
    "\n",
    "# Optional: Modellbewertung\n",
    "y_pred = best_model.predict(X)\n",
    "mse = mean_squared_error(y, y_pred)\n",
    "print(f\"Mean Squared Error des besten Modells: {mse}\")\n"
   ]
  },
  {
   "cell_type": "code",
   "execution_count": 98,
   "id": "3f75726b-c2e0-4d06-9689-524009022753",
   "metadata": {
    "tags": []
   },
   "outputs": [
    {
     "name": "stdout",
     "output_type": "stream",
     "text": [
      "Standardabweichung der Spalte 'Sick-ratio': 0.0069766225414203764\n",
      "Mittelwert der Spalte 'Sick-ratio': 0.036174691518498336\n"
     ]
    }
   ],
   "source": [
    "import pandas as pd\n",
    "\n",
    "# Pfad zur CSV-Datei\n",
    "file_path = '/Users/frederic/Desktop/Fallstudie-Model-Engineering/data/processed/train_data.csv'\n",
    "\n",
    "# Daten einlesen\n",
    "data = pd.read_csv(file_path)\n",
    "\n",
    "# Berechnen der Standardabweichung für die Spalte 'Sick-ratio'\n",
    "standardabweichung = data['Sick-ratio'].std()\n",
    "Mittelwert = data['Sick-ratio'].mean()\n",
    "\n",
    "print(f\"Standardabweichung der Spalte 'Sick-ratio': {standardabweichung}\")\n",
    "print(f\"Mittelwert der Spalte 'Sick-ratio': {Mittelwert}\")"
   ]
  },
  {
   "cell_type": "code",
   "execution_count": 102,
   "id": "b34329d0-c7e5-4880-8b6f-c3afa9df2410",
   "metadata": {
    "tags": []
   },
   "outputs": [
    {
     "name": "stdout",
     "output_type": "stream",
     "text": [
      "Feature Wichtigkeit:\n",
      "        Feature  Importance\n",
      "2  calendarweek    0.414239\n",
      "0       weekday    0.231279\n",
      "6        season    0.128108\n",
      "7          year    0.107788\n",
      "3         month    0.067945\n",
      "1   schulferien    0.026308\n",
      "4       quarter    0.016008\n",
      "5     Feiertage    0.008324\n"
     ]
    },
    {
     "data": {
      "image/png": "[encoded data removed]",
      "text/plain": [
       "<Figure size 1000x600 with 1 Axes>"
      ]
     },
     "metadata": {},
     "output_type": "display_data"
    }
   ],
   "source": [
    "# Merkmalsauswahl mit Random Forest für calls\n",
    "import pandas as pd\n",
    "from sklearn.ensemble import RandomForestRegressor\n",
    "from sklearn.model_selection import train_test_split\n",
    "import matplotlib.pyplot as plt\n",
    "\n",
    "# Pfad zur CSV-Datei\n",
    "file_path = '/Users/frederic/Desktop/Fallstudie-Model-Engineering/data/processed/train_data.csv'\n",
    "\n",
    "# Daten einlesen\n",
    "data = pd.read_csv(file_path)\n",
    "\n",
    "# Features und Zielwert definieren\n",
    "features = ['weekday', 'schulferien', 'calendarweek', 'month', 'quarter', 'Feiertage', 'season', 'year']\n",
    "target = 'calls'\n",
    "\n",
    "# Extrahieren der Daten\n",
    "X = data[features]\n",
    "y = data[target]\n",
    "\n",
    "# Aufteilen der Daten in Trainings- und Testsets\n",
    "X_train, X_test, y_train, y_test = train_test_split(X, y, test_size=0.2, random_state=42)\n",
    "\n",
    "# Erstellen und Trainieren des Random-Forest-Modells\n",
    "rf = RandomForestRegressor(n_estimators=100, random_state=42)\n",
    "rf.fit(X_train, y_train)\n",
    "\n",
    "# Berechnen der Feature-Wichtigkeit\n",
    "importances = rf.feature_importances_\n",
    "\n",
    "# Erstellen eines DataFrames zur Anzeige der Feature-Wichtigkeit\n",
    "feature_importance_df = pd.DataFrame({\n",
    "    'Feature': features,\n",
    "    'Importance': importances\n",
    "}).sort_values(by='Importance', ascending=False)\n",
    "\n",
    "print(\"Feature Wichtigkeit:\")\n",
    "print(feature_importance_df)\n",
    "\n",
    "# Visualisieren der Feature-Wichtigkeit\n",
    "plt.figure(figsize=(10, 6))\n",
    "plt.barh(feature_importance_df['Feature'], feature_importance_df['Importance'])\n",
    "plt.xlabel('Importance')\n",
    "plt.title('Feature Importance using Random Forest')\n",
    "plt.show()"
   ]
  },
  {
   "cell_type": "code",
   "execution_count": 110,
   "id": "9c6218a9-cf1a-4949-b5a3-4224444975e5",
   "metadata": {
    "tags": []
   },
   "outputs": [
    {
     "name": "stdout",
     "output_type": "stream",
     "text": [
      "Feature Wichtigkeit:\n",
      "        Feature  Importance\n",
      "2  calendarweek    0.447915\n",
      "6        season    0.151173\n",
      "7          year    0.137392\n",
      "0       weekday    0.119021\n",
      "3         month    0.100744\n",
      "1   schulferien    0.019770\n",
      "4       quarter    0.018276\n",
      "5     Feiertage    0.005708\n"
     ]
    },
    {
     "data": {
      "image/png": "[encoded data removed]",
      "text/plain": [
       "<Figure size 1000x600 with 1 Axes>"
      ]
     },
     "metadata": {},
     "output_type": "display_data"
    }
   ],
   "source": [
    "# Merkmalsauswahl mit Random Forest für calls\n",
    "import pandas as pd\n",
    "from sklearn.ensemble import RandomForestRegressor\n",
    "from sklearn.model_selection import train_test_split\n",
    "import matplotlib.pyplot as plt\n",
    "\n",
    "# Pfad zur CSV-Datei\n",
    "file_path = '/Users/frederic/Desktop/Fallstudie-Model-Engineering/data/processed/train_data.csv'\n",
    "\n",
    "# Daten einlesen\n",
    "data = pd.read_csv(file_path)\n",
    "\n",
    "# Features und Zielwert definieren\n",
    "features = ['weekday', 'schulferien', 'calendarweek', 'month', 'quarter', 'Feiertage', 'season', 'year']\n",
    "target = 'Sick-ratio'\n",
    "\n",
    "# Extrahieren der Daten\n",
    "X = data[features]\n",
    "y = data[target]\n",
    "\n",
    "# Aufteilen der Daten in Trainings- und Testsets\n",
    "X_train, X_test, y_train, y_test = train_test_split(X, y, test_size=0.2, random_state=42)\n",
    "\n",
    "# Erstellen und Trainieren des Random-Forest-Modells\n",
    "rf = RandomForestRegressor(n_estimators=100, random_state=42)\n",
    "rf.fit(X_train, y_train)\n",
    "\n",
    "# Berechnen der Feature-Wichtigkeit\n",
    "importances = rf.feature_importances_\n",
    "\n",
    "# Erstellen eines DataFrames zur Anzeige der Feature-Wichtigkeit\n",
    "feature_importance_df = pd.DataFrame({\n",
    "    'Feature': features,\n",
    "    'Importance': importances\n",
    "}).sort_values(by='Importance', ascending=False)\n",
    "\n",
    "print(\"Feature Wichtigkeit:\")\n",
    "print(feature_importance_df)\n",
    "\n",
    "# Visualisieren der Feature-Wichtigkeit\n",
    "plt.figure(figsize=(10, 6))\n",
    "plt.barh(feature_importance_df['Feature'], feature_importance_df['Importance'])\n",
    "plt.xlabel('Importance')\n",
    "plt.title('Feature Importance using Random Forest')\n",
    "plt.show()"
   ]
  },
  {
   "cell_type": "code",
   "execution_count": null,
   "id": "26ec77ec-6f7e-4c0d-8800-f6e2835b56be",
   "metadata": {},
   "outputs": [],
   "source": []
  }
 ],
 "metadata": {
  "kernelspec": {
   "display_name": "Python 3 (ipykernel)",
   "language": "python",
   "name": "python3"
  },
  "language_info": {
   "codemirror_mode": {
    "name": "ipython",
    "version": 3
   },
   "file_extension": ".py",
   "mimetype": "text/x-python",
   "name": "python",
   "nbconvert_exporter": "python",
   "pygments_lexer": "ipython3",
   "version": "3.8.19"
  }
 },
 "nbformat": 4,
 "nbformat_minor": 5
}
