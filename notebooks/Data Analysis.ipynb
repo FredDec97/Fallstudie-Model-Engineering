{
 "cells": [
  {
   "cell_type": "code",
   "execution_count": 21,
   "metadata": {},
   "outputs": [
    {
     "name": "stdout",
     "output_type": "stream",
     "text": [
      "   Unnamed: 0        date  n_sick   calls  n_duty  n_sby  sby_need  dafted\n",
      "0           0  2016-04-01      73  8154.0    1700     90       4.0     0.0\n",
      "1           1  2016-04-02      64  8526.0    1700     90      70.0     0.0\n",
      "2           2  2016-04-03      68  8088.0    1700     90       0.0     0.0\n",
      "3           3  2016-04-04      71  7044.0    1700     90       0.0     0.0\n",
      "4           4  2016-04-05      63  7236.0    1700     90       0.0     0.0\n",
      "Unnamed: 0      int64\n",
      "date           object\n",
      "n_sick          int64\n",
      "calls         float64\n",
      "n_duty          int64\n",
      "n_sby           int64\n",
      "sby_need      float64\n",
      "dafted        float64\n",
      "dtype: object\n",
      "   Unnamed: 0       date  n_sick  calls  n_duty  n_sby  sby_need  dafted\n",
      "0           0 2016-04-01      73   8154    1700     90      8154    8154\n",
      "1           1 2016-04-02      64   8526    1700     90      8526    8526\n",
      "2           2 2016-04-03      68   8088    1700     90      8088    8088\n",
      "3           3 2016-04-04      71   7044    1700     90      7044    7044\n",
      "4           4 2016-04-05      63   7236    1700     90      7236    7236\n",
      "Unnamed: 0             int64\n",
      "date          datetime64[ns]\n",
      "n_sick                 int64\n",
      "calls                  int64\n",
      "n_duty                 int64\n",
      "n_sby                  int64\n",
      "sby_need               int64\n",
      "dafted                 int64\n",
      "dtype: object\n"
     ]
    }
   ],
   "source": [
    "import pandas as pd\n",
    "\n",
    "data = pd.read_csv('/Users/frederic/Desktop/Fallstudie-Model-Engineering/data/raw/sickness_table.csv')\n",
    "print(data.head())\n",
    "print(data.dtypes)\n",
    "data['calls'] = data['calls'].astype(float).astype(int)\n",
    "data['sby_need'] = data['calls'].astype(float).astype(int)\n",
    "data['dafted'] = data['calls'].astype(float).astype(int)\n",
    "data['date'] = pd.to_datetime(data['date'])\n",
    "print(data.head())\n",
    "print(data.dtypes)\n",
    "data = data.sort_values(by='date')"
   ]
  },
  {
   "cell_type": "code",
   "execution_count": 7,
   "metadata": {},
   "outputs": [
    {
     "data": {
      "image/png": "[encoded data removed]",
      "text/plain": [
       "<Figure size 720x432 with 1 Axes>"
      ]
     },
     "metadata": {
      "needs_background": "light"
     },
     "output_type": "display_data"
    }
   ],
   "source": [
    "import pandas as pd\n",
    "import matplotlib.pyplot as plt\n",
    "plt.figure(figsize=(10, 6))\n",
    "plt.bar(data['date'], data['calls'], color='skyblue')\n",
    "\n",
    "# Füge Titel und Achsenbeschriftungen hinzu\n",
    "plt.title('Anzahl der Anrufe pro Datum')\n",
    "plt.xlabel('Datum')\n",
    "plt.ylabel('Anzahl der Anrufe')\n",
    "\n",
    "# Dreh die x-Achsenbeschriftungen, falls notwendig\n",
    "plt.xticks(rotation=45)\n",
    "\n",
    "# Zeige das Diagramm an\n",
    "plt.show()"
   ]
  },
  {
   "cell_type": "code",
   "execution_count": 22,
   "metadata": {},
   "outputs": [
    {
     "ename": "NameError",
     "evalue": "name 'plt' is not defined",
     "output_type": "error",
     "traceback": [
      "\u001b[0;31m---------------------------------------------------------------------------\u001b[0m",
      "\u001b[0;31mNameError\u001b[0m                                 Traceback (most recent call last)",
      "\u001b[0;32m<ipython-input-22-29d07bef7bff>\u001b[0m in \u001b[0;36m<module>\u001b[0;34m\u001b[0m\n\u001b[1;32m      1\u001b[0m \u001b[0;31m# Erstelle das Histogramm\u001b[0m\u001b[0;34m\u001b[0m\u001b[0;34m\u001b[0m\u001b[0;34m\u001b[0m\u001b[0m\n\u001b[0;32m----> 2\u001b[0;31m \u001b[0mplt\u001b[0m\u001b[0;34m.\u001b[0m\u001b[0mfigure\u001b[0m\u001b[0;34m(\u001b[0m\u001b[0mfigsize\u001b[0m\u001b[0;34m=\u001b[0m\u001b[0;34m(\u001b[0m\u001b[0;36m10\u001b[0m\u001b[0;34m,\u001b[0m \u001b[0;36m6\u001b[0m\u001b[0;34m)\u001b[0m\u001b[0;34m)\u001b[0m\u001b[0;34m\u001b[0m\u001b[0;34m\u001b[0m\u001b[0m\n\u001b[0m\u001b[1;32m      3\u001b[0m \u001b[0mplt\u001b[0m\u001b[0;34m.\u001b[0m\u001b[0mbar\u001b[0m\u001b[0;34m(\u001b[0m\u001b[0mdata\u001b[0m\u001b[0;34m[\u001b[0m\u001b[0;34m'date'\u001b[0m\u001b[0;34m]\u001b[0m\u001b[0;34m,\u001b[0m \u001b[0mdata\u001b[0m\u001b[0;34m[\u001b[0m\u001b[0;34m'n_sick'\u001b[0m\u001b[0;34m]\u001b[0m\u001b[0;34m,\u001b[0m \u001b[0mcolor\u001b[0m\u001b[0;34m=\u001b[0m\u001b[0;34m'skyblue'\u001b[0m\u001b[0;34m)\u001b[0m\u001b[0;34m\u001b[0m\u001b[0;34m\u001b[0m\u001b[0m\n\u001b[1;32m      4\u001b[0m \u001b[0;34m\u001b[0m\u001b[0m\n\u001b[1;32m      5\u001b[0m \u001b[0;31m# Füge Titel und Achsenbeschriftungen hinzu\u001b[0m\u001b[0;34m\u001b[0m\u001b[0;34m\u001b[0m\u001b[0;34m\u001b[0m\u001b[0m\n",
      "\u001b[0;31mNameError\u001b[0m: name 'plt' is not defined"
     ]
    }
   ],
   "source": [
    "# Erstelle das Histogramm\n",
    "plt.figure(figsize=(10, 6))\n",
    "plt.bar(data['date'], data['n_sick'], color='skyblue')\n",
    "\n",
    "# Füge Titel und Achsenbeschriftungen hinzu\n",
    "plt.title('Anzahl der Kranken pro Datum')\n",
    "plt.xlabel('Datum')\n",
    "plt.ylabel('Anzahl der Kranken')\n",
    "\n",
    "# Dreh die x-Achsenbeschriftungen, falls notwendig\n",
    "plt.xticks(rotation=45)\n",
    "\n",
    "# Zeige das Diagramm an\n",
    "plt.show()"
   ]
  },
  {
   "cell_type": "code",
   "execution_count": 23,
   "metadata": {},
   "outputs": [
    {
     "ename": "NameError",
     "evalue": "name 'plt' is not defined",
     "output_type": "error",
     "traceback": [
      "\u001b[0;31m---------------------------------------------------------------------------\u001b[0m",
      "\u001b[0;31mNameError\u001b[0m                                 Traceback (most recent call last)",
      "\u001b[0;32m<ipython-input-23-3af43888f16f>\u001b[0m in \u001b[0;36m<module>\u001b[0;34m\u001b[0m\n\u001b[1;32m      7\u001b[0m )\n\u001b[1;32m      8\u001b[0m \u001b[0;31m# Erstelle das Diagramm mit zwei y-Achsen\u001b[0m\u001b[0;34m\u001b[0m\u001b[0;34m\u001b[0m\u001b[0;34m\u001b[0m\u001b[0m\n\u001b[0;32m----> 9\u001b[0;31m \u001b[0mfig\u001b[0m\u001b[0;34m,\u001b[0m \u001b[0max1\u001b[0m \u001b[0;34m=\u001b[0m \u001b[0mplt\u001b[0m\u001b[0;34m.\u001b[0m\u001b[0msubplots\u001b[0m\u001b[0;34m(\u001b[0m\u001b[0mfigsize\u001b[0m\u001b[0;34m=\u001b[0m\u001b[0;34m(\u001b[0m\u001b[0;36m12\u001b[0m\u001b[0;34m,\u001b[0m \u001b[0;36m6\u001b[0m\u001b[0;34m)\u001b[0m\u001b[0;34m)\u001b[0m\u001b[0;34m\u001b[0m\u001b[0;34m\u001b[0m\u001b[0m\n\u001b[0m\u001b[1;32m     10\u001b[0m \u001b[0;34m\u001b[0m\u001b[0m\n\u001b[1;32m     11\u001b[0m \u001b[0;31m# Breite der Balken\u001b[0m\u001b[0;34m\u001b[0m\u001b[0;34m\u001b[0m\u001b[0;34m\u001b[0m\u001b[0m\n",
      "\u001b[0;31mNameError\u001b[0m: name 'plt' is not defined"
     ]
    }
   ],
   "source": [
    "# Erstelle eine neue Spalte für die Wochentage\n",
    "data['weekday'] = data['date'].dt.day_name()\n",
    "\n",
    "# Aggregiere die Daten nach Wochentagen und berechne den Durchschnitt\n",
    "aggregated_data = data.groupby('weekday').mean().reindex(\n",
    "    ['Monday', 'Tuesday', 'Wednesday', 'Thursday', 'Friday', 'Saturday', 'Sunday']\n",
    ")\n",
    "# Erstelle das Diagramm mit zwei y-Achsen\n",
    "fig, ax1 = plt.subplots(figsize=(12, 6))\n",
    "\n",
    "# Breite der Balken\n",
    "bar_width = 0.35\n",
    "\n",
    "# Positionen der Balken auf der x-Achse\n",
    "r1 = range(len(aggregated_data))\n",
    "\n",
    "# Erstelle die Balken für die Anzahl der Kranken\n",
    "bars1 = ax1.bar(r1, aggregated_data['n_sick'], color='blue', width=bar_width, edgecolor='grey', label='n_sick')\n",
    "\n",
    "# Konfiguriere die erste y-Achse\n",
    "ax1.set_xlabel('Wochentag', fontweight='bold')\n",
    "ax1.set_ylabel('Durchschnittliche Anzahl der Kranken', color='blue', fontweight='bold')\n",
    "ax1.set_title('Durchschnittliche Anzahl der Kranken und Anrufe pro Wochentag')\n",
    "ax1.set_xticks([r for r in range(len(aggregated_data))])\n",
    "ax1.set_xticklabels(['Montag', 'Dienstag', 'Mittwoch', 'Donnerstag', 'Freitag', 'Samstag', 'Sonntag'])\n",
    "\n",
    "# Beschrifte die Balken für die Anzahl der Kranken\n",
    "for bar in bars1:\n",
    "    yval = bar.get_height()\n",
    "    ax1.text(bar.get_x() + bar.get_width() / 2.0, yval, round(yval, 2), va='bottom', ha='center', color='blue')\n",
    "\n",
    "# Erstelle eine zweite y-Achse\n",
    "ax2 = ax1.twinx()\n",
    "\n",
    "# Erstelle die Balken für die Anzahl der Anrufe\n",
    "bars2 = ax2.bar([r + bar_width for r in r1], aggregated_data['calls'], color='red', width=bar_width, edgecolor='grey', label='calls')\n",
    "\n",
    "# Konfiguriere die zweite y-Achse\n",
    "ax2.set_ylabel('Durchschnittliche Anzahl der Anrufe', color='red', fontweight='bold')\n",
    "\n",
    "# Beschrifte die Balken für die Anzahl der Anrufe\n",
    "for bar in bars2:\n",
    "    yval = bar.get_height()\n",
    "    ax2.text(bar.get_x() + bar.get_width() / 2.0, yval, round(yval, 2), va='bottom', ha='center', color='red')\n",
    "\n",
    "# Zeige die Legenden\n",
    "fig.tight_layout()\n",
    "fig.legend(loc='upper left', bbox_to_anchor=(0.1,0.9))\n",
    "\n",
    "# Zeige das Diagramm an\n",
    "plt.show()"
   ]
  },
  {
   "cell_type": "code",
   "execution_count": 13,
   "metadata": {},
   "outputs": [
    {
     "data": {
      "image/png": "[encoded data removed]",
      "text/plain": [
       "<Figure size 864x432 with 2 Axes>"
      ]
     },
     "metadata": {
      "needs_background": "light"
     },
     "output_type": "display_data"
    }
   ],
   "source": [
    "# Erstelle eine neue Spalte für die Monatsnamen\n",
    "data['month'] = data['date'].dt.month_name()\n",
    "\n",
    "# Berechne den Tagesdurchschnitt der Kranken und Anrufe pro Monat\n",
    "daily_averages = data.groupby('month').mean().reindex(\n",
    "    ['January', 'February', 'March', 'April', 'May', 'June', 'July', 'August', 'September', 'October', 'November', 'December']\n",
    ")\n",
    "# Erstelle das Diagramm mit zwei y-Achsen\n",
    "fig, ax1 = plt.subplots(figsize=(12, 6))\n",
    "\n",
    "# Breite der Balken\n",
    "bar_width = 0.35\n",
    "\n",
    "# Positionen der Balken auf der x-Achse\n",
    "r1 = range(len(daily_averages))\n",
    "\n",
    "# Erstelle die Balken für die Anzahl der Kranken\n",
    "bars1 = ax1.bar(r1, daily_averages['n_sick'], color='blue', width=bar_width, edgecolor='grey', label='n_sick')\n",
    "\n",
    "# Konfiguriere die erste y-Achse\n",
    "ax1.set_xlabel('Monat', fontweight='bold')\n",
    "ax1.set_ylabel('Durchschnittliche Anzahl der Kranken pro Tag', color='blue', fontweight='bold')\n",
    "ax1.set_title('Durchschnittliche Anzahl der Kranken und Anrufe pro Tag und Monat')\n",
    "ax1.set_xticks([r for r in range(len(daily_averages))])\n",
    "ax1.set_xticklabels(['Januar', 'Februar', 'März', 'April', 'Mai', 'Juni', 'Juli', 'August', 'September', 'Oktober', 'November', 'Dezember'])\n",
    "\n",
    "# Beschrifte die Balken für die Anzahl der Kranken\n",
    "for bar in bars1:\n",
    "    yval = bar.get_height()\n",
    "    ax1.text(bar.get_x() + bar.get_width() / 2.0, yval, round(yval, 2), va='bottom', ha='center', color='blue')\n",
    "\n",
    "# Erstelle eine zweite y-Achse\n",
    "ax2 = ax1.twinx()\n",
    "\n",
    "# Erstelle die Balken für die Anzahl der Anrufe\n",
    "bars2 = ax2.bar([r + bar_width for r in r1], daily_averages['calls'], color='red', width=bar_width, edgecolor='grey', label='calls')\n",
    "\n",
    "# Konfiguriere die zweite y-Achse\n",
    "ax2.set_ylabel('Durchschnittliche Anzahl der Anrufe pro Tag', color='red', fontweight='bold')\n",
    "\n",
    "# Beschrifte die Balken für die Anzahl der Anrufe\n",
    "for bar in bars2:\n",
    "    yval = bar.get_height()\n",
    "    ax2.text(bar.get_x() + bar.get_width() / 2.0, yval, round(yval, 2), va='bottom', ha='center', color='red')\n",
    "\n",
    "# Zeige die Legenden\n",
    "fig.tight_layout()\n",
    "fig.legend(loc='upper left', bbox_to_anchor=(0.1,0.9))\n",
    "\n",
    "# Zeige das Diagramm an\n",
    "plt.show()"
   ]
  },
  {
   "cell_type": "code",
   "execution_count": 24,
   "metadata": {},
   "outputs": [
    {
     "ename": "NameError",
     "evalue": "name 'plt' is not defined",
     "output_type": "error",
     "traceback": [
      "\u001b[0;31m---------------------------------------------------------------------------\u001b[0m",
      "\u001b[0;31mNameError\u001b[0m                                 Traceback (most recent call last)",
      "\u001b[0;32m<ipython-input-24-790ae2aec688>\u001b[0m in \u001b[0;36m<module>\u001b[0;34m\u001b[0m\n\u001b[1;32m     21\u001b[0m \u001b[0;34m\u001b[0m\u001b[0m\n\u001b[1;32m     22\u001b[0m \u001b[0;31m# Erstelle das Diagramm mit zwei y-Achsen\u001b[0m\u001b[0;34m\u001b[0m\u001b[0;34m\u001b[0m\u001b[0;34m\u001b[0m\u001b[0m\n\u001b[0;32m---> 23\u001b[0;31m \u001b[0mfig\u001b[0m\u001b[0;34m,\u001b[0m \u001b[0max1\u001b[0m \u001b[0;34m=\u001b[0m \u001b[0mplt\u001b[0m\u001b[0;34m.\u001b[0m\u001b[0msubplots\u001b[0m\u001b[0;34m(\u001b[0m\u001b[0mfigsize\u001b[0m\u001b[0;34m=\u001b[0m\u001b[0;34m(\u001b[0m\u001b[0;36m10\u001b[0m\u001b[0;34m,\u001b[0m \u001b[0;36m6\u001b[0m\u001b[0;34m)\u001b[0m\u001b[0;34m)\u001b[0m\u001b[0;34m\u001b[0m\u001b[0;34m\u001b[0m\u001b[0m\n\u001b[0m\u001b[1;32m     24\u001b[0m \u001b[0;34m\u001b[0m\u001b[0m\n\u001b[1;32m     25\u001b[0m \u001b[0;31m# Breite der Balken\u001b[0m\u001b[0;34m\u001b[0m\u001b[0;34m\u001b[0m\u001b[0;34m\u001b[0m\u001b[0m\n",
      "\u001b[0;31mNameError\u001b[0m: name 'plt' is not defined"
     ]
    }
   ],
   "source": [
    "# Liste der Feiertage\n",
    "feiertage = [\n",
    "    '2016-03-28', '2016-05-01', '2016-05-05', '2016-05-16', '2016-10-03', '2016-12-25', '2016-12-26',\n",
    "    '2017-01-01', '2017-04-14', '2017-04-17', '2017-05-01', '2017-05-25', '2017-06-05', '2017-10-03',\n",
    "    '2017-10-31', '2017-12-25', '2017-12-16', '2018-01-01', '2018-03-30', '2018-04-02', '2018-05-01',\n",
    "    '2018-05-10', '2018-05-21', '2018-10-03', '2018-12-25', '2018-12-26', '2019-01-01', '2019-03-08',\n",
    "    '2019-04-19', '2019-04-22', '2019-05-01', '2019-05-30', '2019-06-10', '2019-10-03', '2019-12-25',\n",
    "    '2019-12-26'\n",
    "]\n",
    "\n",
    "# Konvertiere die Liste der Feiertage in ein Datetime-Format\n",
    "feiertage = pd.to_datetime(feiertage)\n",
    "\n",
    "# Füge die Spalte \"Feiertage\" hinzu\n",
    "data['Feiertage'] = data['date'].isin(feiertage)\n",
    "\n",
    "# Schritt 2: Berechne die durchschnittlichen Werte für Feiertage und Nicht-Feiertage\n",
    "\n",
    "# Berechne die Mittelwerte\n",
    "average_values = data.groupby('Feiertage').mean()[['calls', 'n_sick']]\n",
    "\n",
    "# Erstelle das Diagramm mit zwei y-Achsen\n",
    "fig, ax1 = plt.subplots(figsize=(10, 6))\n",
    "\n",
    "# Breite der Balken\n",
    "bar_width = 0.35\n",
    "\n",
    "# Positionen der Balken auf der x-Achse\n",
    "r = range(len(average_values))\n",
    "\n",
    "# Erstelle die Balken für die Anzahl der Kranken (linke y-Achse)\n",
    "bars1 = ax1.bar(r, average_values['n_sick'], color='blue', width=bar_width, edgecolor='grey', label='n_sick')\n",
    "\n",
    "# Konfiguriere die linke y-Achse\n",
    "ax1.set_xlabel('Feiertag')\n",
    "ax1.set_ylabel('Durchschnittliche Anzahl der Krankheitsfälle', color='blue', fontweight='bold')\n",
    "ax1.set_title('Durchschnittliche Anzahl der Krankheitsfälle und Anrufe an Feiertagen und Nicht-Feiertagen')\n",
    "ax1.set_xticks([x + bar_width / 2 for x in r])\n",
    "ax1.set_xticklabels(['Nicht-Feiertag', 'Feiertag'])\n",
    "ax1.tick_params(axis='y', labelcolor='blue')\n",
    "\n",
    "# Beschrifte die Balken für die Anzahl der Kranken\n",
    "for bar in bars1:\n",
    "    yval = bar.get_height()\n",
    "    ax1.text(bar.get_x() + bar.get_width() / 2.0, yval, round(yval, 2), va='bottom', ha='center', color='blue')\n",
    "\n",
    "# Erstelle eine zweite y-Achse für die Anzahl der Anrufe (rechte y-Achse)\n",
    "ax2 = ax1.twinx()\n",
    "\n",
    "# Erstelle die Balken für die Anzahl der Anrufe (rechte y-Achse)\n",
    "bars2 = ax2.bar([x + bar_width for x in r], average_values['calls'], color='red', width=bar_width, edgecolor='grey', label='calls')\n",
    "\n",
    "# Konfiguriere die rechte y-Achse\n",
    "ax2.set_ylabel('Durchschnittliche Anzahl der Anrufe', color='red', fontweight='bold')\n",
    "ax2.tick_params(axis='y', labelcolor='red')\n",
    "\n",
    "# Beschrifte die Balken für die Anzahl der Anrufe\n",
    "for bar in bars2:\n",
    "    yval = bar.get_height()\n",
    "    ax2.text(bar.get_x() + bar.get_width() / 2.0, yval, round(yval, 2), va='bottom', ha='center', color='red')\n",
    "\n",
    "# Zeige die Legenden\n",
    "fig.tight_layout()\n",
    "fig.legend(loc='upper left', bbox_to_anchor=(0.1, 0.9))\n",
    "\n",
    "# Zeige das Diagramm an\n",
    "plt.show()"
   ]
  },
  {
   "cell_type": "code",
   "execution_count": 5,
   "metadata": {},
   "outputs": [
    {
     "name": "stdout",
     "output_type": "stream",
     "text": [
      "Requirement already satisfied: pandas in /Users/frederic/opt/anaconda3/lib/python3.8/site-packages (1.1.3)\n",
      "Requirement already satisfied: numpy>=1.15.4 in /Users/frederic/opt/anaconda3/lib/python3.8/site-packages (from pandas) (1.19.2)\n",
      "Requirement already satisfied: pytz>=2017.2 in /Users/frederic/opt/anaconda3/lib/python3.8/site-packages (from pandas) (2020.1)\n",
      "Requirement already satisfied: python-dateutil>=2.7.3 in /Users/frederic/opt/anaconda3/lib/python3.8/site-packages (from pandas) (2.8.1)\n",
      "Requirement already satisfied: six>=1.5 in /Users/frederic/opt/anaconda3/lib/python3.8/site-packages (from python-dateutil>=2.7.3->pandas) (1.15.0)\n",
      "\n",
      "\u001b[1m[\u001b[0m\u001b[34;49mnotice\u001b[0m\u001b[1;39;49m]\u001b[0m\u001b[39;49m A new release of pip available: \u001b[0m\u001b[31;49m22.3.1\u001b[0m\u001b[39;49m -> \u001b[0m\u001b[32;49m24.1.2\u001b[0m\n",
      "\u001b[1m[\u001b[0m\u001b[34;49mnotice\u001b[0m\u001b[1;39;49m]\u001b[0m\u001b[39;49m To update, run: \u001b[0m\u001b[32;49mpip install --upgrade pip\u001b[0m\n",
      "            Statistik  n_sick      calls\n",
      "0          Mittelwert    68.8     7919.5\n",
      "1             Minimum    36.0     4074.0\n",
      "2             Maximum   119.0    11850.0\n",
      "3             Varianz   204.3  1664264.0\n",
      "4  Standardabweichung    14.3     1290.1\n"
     ]
    }
   ],
   "source": [
    "#Installiere und importiere die notwendigen Bibliotheken\n",
    "!pip install pandas\n",
    "\n",
    "import pandas as pd\n",
    "\n",
    "# Lade die CSV-Datei in ein DataFrame\n",
    "data = pd.read_csv('/Users/frederic/Desktop/Fallstudie-Model-Engineering/data/raw/sickness_table.csv')\n",
    "\n",
    "# Konvertiere die Spalten zu Integer (falls notwendig)\n",
    "data['n_sick'] = data['n_sick'].astype(float).astype(int)\n",
    "data['calls'] = data['calls'].astype(float).astype(int)\n",
    "\n",
    "# Berechne Mittelwert, Min, Max, Varianz und Standardabweichung für 'n_sick'\n",
    "n_sick_mean = round(data['n_sick'].mean(), 1)\n",
    "n_sick_min = round(data['n_sick'].min(), 1)\n",
    "n_sick_max = round(data['n_sick'].max(), 1)\n",
    "n_sick_variance = round(data['n_sick'].var(), 1)\n",
    "n_sick_std_dev = round(data['n_sick'].std(), 1)\n",
    "\n",
    "# Berechne Mittelwert, Min, Max, Varianz und Standardabweichung für 'calls'\n",
    "calls_mean = round(data['calls'].mean(), 1)\n",
    "calls_min = round(data['calls'].min(), 1)\n",
    "calls_max = round(data['calls'].max(), 1)\n",
    "calls_variance = round(data['calls'].var(), 1)\n",
    "calls_std_dev = round(data['calls'].std(), 1)\n",
    "\n",
    "# Erstelle ein DataFrame zur Darstellung der Ergebnisse\n",
    "statistics = pd.DataFrame({\n",
    "    'Statistik': ['Mittelwert', 'Minimum', 'Maximum', 'Varianz', 'Standardabweichung'],\n",
    "    'n_sick': [n_sick_mean, n_sick_min, n_sick_max, n_sick_variance, n_sick_std_dev],\n",
    "    'calls': [calls_mean, calls_min, calls_max, calls_variance, calls_std_dev]\n",
    "})\n",
    "\n",
    "# Zeige die Ergebnisse an\n",
    "print(statistics)"
   ]
  },
  {
   "cell_type": "code",
   "execution_count": 27,
   "metadata": {},
   "outputs": [
    {
     "name": "stdout",
     "output_type": "stream",
     "text": [
      "   Unnamed: 0       date  n_sick  calls  n_duty  n_sby  sby_need  dafted  \\\n",
      "0           0 2016-04-01      73   8154    1700     90      8154    8154   \n",
      "1           1 2016-04-02      64   8526    1700     90      8526    8526   \n",
      "2           2 2016-04-03      68   8088    1700     90      8088    8088   \n",
      "3           3 2016-04-04      71   7044    1700     90      7044    7044   \n",
      "4           4 2016-04-05      63   7236    1700     90      7236    7236   \n",
      "\n",
      "    weekday  Feiertage  \n",
      "0    Friday      False  \n",
      "1  Saturday      False  \n",
      "2    Sunday      False  \n",
      "3    Monday      False  \n",
      "4   Tuesday      False  \n",
      "   Unnamed: 0       date  n_sick  calls  n_duty  n_sby  sby_need  dafted  \\\n",
      "0           0 2016-04-01      73   8154    1700     90      8154    8154   \n",
      "1           1 2016-04-02      64   8526    1700     90      8526    8526   \n",
      "2           2 2016-04-03      68   8088    1700     90      8088    8088   \n",
      "3           3 2016-04-04      71   7044    1700     90      7044    7044   \n",
      "4           4 2016-04-05      63   7236    1700     90      7236    7236   \n",
      "\n",
      "    weekday  Feiertage  \n",
      "0    Friday      False  \n",
      "1  Saturday      False  \n",
      "2    Sunday      False  \n",
      "3    Monday      False  \n",
      "4   Tuesday      False  \n"
     ]
    }
   ],
   "source": [
    "print(data.head())\n",
    "# Liste der Feiertage\n",
    "feiertage = [\n",
    "    '2016-03-28', '2016-05-01', '2016-05-05', '2016-05-16', '2016-10-03', '2016-12-25', '2016-12-26',\n",
    "    '2017-01-01', '2017-04-14', '2017-04-17', '2017-05-01', '2017-05-25', '2017-06-05', '2017-10-03',\n",
    "    '2017-10-31', '2017-12-25', '2017-12-16', '2018-01-01', '2018-03-30', '2018-04-02', '2018-05-01',\n",
    "    '2018-05-10', '2018-05-21', '2018-10-03', '2018-12-25', '2018-12-26', '2019-01-01', '2019-03-08',\n",
    "    '2019-04-19', '2019-04-22', '2019-05-01', '2019-05-30', '2019-06-10', '2019-10-03', '2019-12-25',\n",
    "    '2019-12-26'\n",
    "]\n",
    "\n",
    "# Konvertiere die Liste der Feiertage in ein Datetime-Format\n",
    "feiertage = pd.to_datetime(feiertage)\n",
    "\n",
    "# Füge die Spalte \"Feiertage\" hinzu\n",
    "data['Feiertage'] = data['date'].isin(feiertage)\n",
    "print(data.head())"
   ]
  },
  {
   "cell_type": "code",
   "execution_count": 33,
   "metadata": {},
   "outputs": [
    {
     "name": "stdout",
     "output_type": "stream",
     "text": [
      "Deskriptive Statistik:\n",
      "Einfluss auf die Variable n_sick:\n",
      "            count       mean        std   min    25%   50%    75%    max\n",
      "Feiertage                                                               \n",
      "False      1122.0  68.907308  14.331004  36.0  58.00  68.0  78.75  119.0\n",
      "True         30.0  65.100000  12.479915  50.0  56.25  60.5  72.75   94.0\n",
      "\n",
      "T-Test: t-stat=-1.4404545509513211, p-val=0.15001102682910755\n",
      "Das Attribut Feiertage beeinflusst die Zielvariable nicht signifikant (Nullhypothese kann nicht abgelehnt werden).\n"
     ]
    }
   ],
   "source": [
    "# Deskriptive Statistik\n",
    "print(\"Deskriptive Statistik:\")\n",
    "print(\"Einfluss auf die Variable n_sick:\")\n",
    "print(data.groupby('Feiertage')['n_sick'].describe())\n",
    "\n",
    "# T-Test\n",
    "holiday_data = data[data['Feiertage'] == True]['n_sick']\n",
    "non_holiday_data = data[data['Feiertage'] == False]['n_sick']\n",
    "\n",
    "t_stat, p_val = stats.ttest_ind(holiday_data, non_holiday_data)\n",
    "print(f\"\\nT-Test: t-stat={t_stat}, p-val={p_val}\")\n",
    "\n",
    "# Interpretation des p-Werts\n",
    "alpha = 0.05\n",
    "if p_val < alpha:\n",
    "    print(\"Das Attribut Feiertage beeinflusst die Zielvariable signifikant (Nullhypothese wird abgelehnt).\")\n",
    "else:\n",
    "    print(\"Das Attribut Feiertage beeinflusst die Zielvariable nicht signifikant (Nullhypothese kann nicht abgelehnt werden).\")"
   ]
  },
  {
   "cell_type": "code",
   "execution_count": 31,
   "metadata": {},
   "outputs": [
    {
     "name": "stdout",
     "output_type": "stream",
     "text": [
      "Deskriptive Statistik:\n",
      "Einfluss auf die Variable calls:\n",
      "            count         mean          std     min     25%     50%     75%  \\\n",
      "Feiertage                                                                     \n",
      "False      1122.0  7907.935829  1291.387071  4074.0  6978.0  7908.0  8814.0   \n",
      "True         30.0  8353.200000  1178.910262  6030.0  7638.0  8463.0  9048.0   \n",
      "\n",
      "               max  \n",
      "Feiertage           \n",
      "False      11850.0  \n",
      "True       10494.0  \n",
      "\n",
      "T-Test: t-stat=-1.4404545509513211, p-val=0.15001102682910755\n",
      "Das Attribut Feiertage beeinflusst die Zielvariable nicht signifikant (Nullhypothese kann nicht abgelehnt werden).\n"
     ]
    }
   ],
   "source": [
    "# Deskriptive Statistik\n",
    "print(\"Deskriptive Statistik:\")\n",
    "print(\"Einfluss auf die Variable calls:\")\n",
    "print(data.groupby('Feiertage')['calls'].describe())\n",
    "\n",
    "# T-Test\n",
    "holiday_data = data[data['Feiertage'] == True]['n_sick']\n",
    "non_holiday_data = data[data['Feiertage'] == False]['n_sick']\n",
    "\n",
    "t_stat, p_val = stats.ttest_ind(holiday_data, non_holiday_data)\n",
    "print(f\"\\nT-Test: t-stat={t_stat}, p-val={p_val}\")\n",
    "\n",
    "# Interpretation des p-Werts\n",
    "alpha = 0.05\n",
    "if p_val < alpha:\n",
    "    print(\"Das Attribut Feiertage beeinflusst die Zielvariable signifikant (Nullhypothese wird abgelehnt).\")\n",
    "else:\n",
    "    print(\"Das Attribut Feiertage beeinflusst die Zielvariable nicht signifikant (Nullhypothese kann nicht abgelehnt werden).\")"
   ]
  },
  {
   "cell_type": "code",
   "execution_count": null,
   "metadata": {},
   "outputs": [],
   "source": []
  }
 ],
 "metadata": {
  "kernelspec": {
   "display_name": "Python 3",
   "language": "python",
   "name": "python3"
  },
  "language_info": {
   "codemirror_mode": {
    "name": "ipython",
    "version": 3
   },
   "file_extension": ".py",
   "mimetype": "text/x-python",
   "name": "python",
   "nbconvert_exporter": "python",
   "pygments_lexer": "ipython3",
   "version": "3.8.5"
  }
 },
 "nbformat": 4,
 "nbformat_minor": 4
}
